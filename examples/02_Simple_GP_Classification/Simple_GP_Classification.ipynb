{
 "cells": [
  {
   "cell_type": "markdown",
   "metadata": {},
   "source": [
    "# GPyTorch Classification Tutorial\n",
    "## Introduction\n",
    "\n",
    "This example is the simplest form of using an RBF kernel in an `VariationalGP` module for classification. This basic model is usable when there is not much training data and no advanced techniques are required.\n",
    "\n",
    "In this example, we’re modeling a unit wave with period 1/2 centered with positive values @ x=0. We are going to classify the points as either +1 or -1.\n",
    "\n",
    "Variational inference uses the assumption that the posterior distribution factors multiplicatively over the input variables. This makes approximating the distribution via the KL divergence possible to obtain a fast approximation to the posterior. For a good explanation of variational techniques, sections 4-6 of the following may be useful: https://www.cs.princeton.edu/courses/archive/fall11/cos597C/lectures/variational-inference-i.pdf"
   ]
  },
  {
   "cell_type": "code",
   "execution_count": 1,
   "metadata": {},
   "outputs": [],
   "source": [
    "import math\n",
    "import torch\n",
    "import gpytorch\n",
    "from matplotlib import pyplot as plt\n",
    "\n",
    "%matplotlib inline"
   ]
  },
  {
   "cell_type": "markdown",
   "metadata": {},
   "source": [
    "### Set up training data\n",
    "\n",
    "In the next cell, we set up the training data for this example. We'll be using 15 regularly spaced points on [0,1] which we evaluate the function on and add Gaussian noise to get the training labels. Labels are unit wave with period 1/2 centered with positive values @ x=0."
   ]
  },
  {
   "cell_type": "code",
   "execution_count": 2,
   "metadata": {},
   "outputs": [],
   "source": [
    "train_x = torch.linspace(0, 1, 10)\n",
    "train_y = torch.sign(torch.cos(train_x * (4 * math.pi)))"
   ]
  },
  {
   "cell_type": "markdown",
   "metadata": {},
   "source": [
    "## Setting up the classification model\n",
    "\n",
    "The next cell demonstrates the simplist way to define a classification Gaussian process model in GPyTorch. If you have already done the [GP regression tutorial](../01_Simple_GP_Regression/Simple_GP_Regression.ipynb), you have already seen how GPyTorch model construction differs from other GP packages. In particular, the GP model expects a user to write out a `forward` method in a way analogous to PyTorch models. This gives the user the most possible flexibility.\n",
    "\n",
    "Since exact inference is intractable for GP classification, GPyTorch approximates the classification posterior using **variational inference.** We believe that variational inference is ideal for a number of reasons. Firstly, variational inference commonly relies on gradient descent techniques, which take full advantage of PyTorch's autograd. This reduces the amount of code needed to develop complex variational models. Additionally, variational inference can be performed with stochastic gradient decent, which can be extremely scalable for large datasets.\n",
    "\n",
    "If you are unfamiliar with variational inference, we recommend the following resources:\n",
    "- [Variational Inference: A Review for Statisticians](https://arxiv.org/abs/1601.00670) by David M. Blei, Alp Kucukelbir, Jon D. McAuliffe.\n",
    "- [Scalable Variational Gaussian Process Classification](https://arxiv.org/abs/1411.2005) by James Hensman, Alex Matthews, Zoubin Ghahramani.\n",
    "\n",
    "### The necessary casses\n",
    "\n",
    "For most GP regression models, you will need to construct the following GPyTorch objects:\n",
    "\n",
    "1. A **GP Model** (`gpytorch.models.VariationalGP`) -  This handles basic variational inference.\n",
    "1. A **Likelihood** (`gpytorch.likelihoods.BernoulliLikelihood`) - This is a good likelihood for binary classification\n",
    "1. A **Mean** - This defines the prior mean of the GP.\n",
    "  - If you don't know which mean to use, a `gpytorch.means.ConstantMean()` is a good place to start.\n",
    "1. A **Kernel** - This defines the prior covariance of the GP.\n",
    "  - If you don't know which kernel to use, a `gpytorch.kernels.ScaleKernel(gpytorch.kernels.RBFKernel())` is a good place to start.\n",
    "1. A **MultivariateNormal** Distribution (`gpytorch.distributions.MultivariateNormal`) - This is the object used to represent multivariate normal distributions.\n",
    "  \n",
    "  \n",
    "#### The GP Model\n",
    "  \n",
    "The `VariationalGP` model is GPyTorch's simplist approximate inference model. It approximates the true posterior with a multivariate normal distribution. The model defines all the variational parameters that are needed, and keeps all of this information under the hood.\n",
    "\n",
    "The components of a user built `VariationalGP` model in GPyTorch are:\n",
    "\n",
    "1. An `__init__` method that takes the training data as an input. The `__init__` function will also construct a mean module, a kernel module, and whatever other modules might be necessary.\n",
    "\n",
    "2. A `forward` method that takes in some $n \\times d$ data `x` and returns a MultivariateNormal with the *prior* mean and covariance evaluated at `x`. In other words, we return the vector $\\mu(x)$ and the $n \\times n$ matrix $K_{xx}$ representing the prior mean and covariance matrix of the GP.\n",
    "\n",
    "(For those who are unfamiliar with GP classification: even though we are performing classification, the GP model still returns a `MultivariateNormal`. The likelihood transforms this latent Gaussian variable into a Bernoulli variable)\n",
    "\n",
    "Here we present a simple classification model, but it is posslbe to construct more complex models. See some of the [scalable classification examples](../07_Scalable_GP_Classification_Multidimensional/) or [deep kernel learning examples](../08_Deep_Kernel_Learning) for some other examples."
   ]
  },
  {
   "cell_type": "code",
   "execution_count": 3,
   "metadata": {},
   "outputs": [],
   "source": [
    "class GPClassificationModel(gpytorch.models.VariationalGP):\n",
    "    def __init__(self, train_x):\n",
    "        super(GPClassificationModel, self).__init__(train_x)\n",
    "        self.mean_module = gpytorch.means.ConstantMean()\n",
    "        self.covar_module = gpytorch.kernels.ScaleKernel(gpytorch.kernels.RBFKernel())\n",
    "\n",
    "    def forward(self, x):\n",
    "        mean_x = self.mean_module(x)\n",
    "        covar_x = self.covar_module(x)\n",
    "        latent_pred = gpytorch.distributions.MultivariateNormal(mean_x, covar_x)\n",
    "        return latent_pred\n",
    "\n",
    "# Initialize model and likelihood\n",
    "model = GPClassificationModel(train_x)\n",
    "likelihood = gpytorch.likelihoods.BernoulliLikelihood()"
   ]
  },
  {
   "cell_type": "markdown",
   "metadata": {},
   "source": [
    "### Model modes\n",
    "\n",
    "Like most PyTorch modules, the `ExactGP` has a `.train()` and `.eval()` mode.\n",
    "- `.train()` mode is for optimizing variational parameters model hyperameters.\n",
    "- `.eval()` mode is for computing predictions through the model posterior."
   ]
  },
  {
   "cell_type": "markdown",
   "metadata": {},
   "source": [
    "## Learn the variational parameters (and other hyperparameters)\n",
    "\n",
    "In the next cell, we optimize the variational parameters of our Gaussian process.\n",
    "In addition, this optimization loop also performs Type-II MLE to train the hyperparameters of the Gaussian process.\n",
    "\n",
    "The most obvious difference here compared to many other GP implementations is that, as in standard PyTorch, the core training loop is written by the user. In GPyTorch, we make use of the standard PyTorch optimizers as from `torch.optim`, and all trainable parameters of the model should be of type `torch.nn.Parameter`. The variational parameters are predefined as part of the `VariationalGP` model.\n",
    "\n",
    "In most cases, the boilerplate code below will work well. It has the same basic components as the standard PyTorch training loop:\n",
    "\n",
    "1. Zero all parameter gradients\n",
    "2. Call the model and compute the loss\n",
    "3. Call backward on the loss to fill in gradients\n",
    "4. Take a step on the optimizer\n",
    "\n",
    "However, defining custom training loops allows for greater flexibility. For example, it is possible to learn the variational parameters and kernel hyperparameters with different learning rates."
   ]
  },
  {
   "cell_type": "code",
   "execution_count": 4,
   "metadata": {
    "scrolled": true
   },
   "outputs": [
    {
     "name": "stdout",
     "output_type": "stream",
     "text": [
      "Iter 1/50 - Loss: 326.007\n",
      "Iter 2/50 - Loss: 229.193\n",
      "Iter 3/50 - Loss: 147.576\n",
      "Iter 4/50 - Loss: 94.261\n",
      "Iter 5/50 - Loss: 58.425\n",
      "Iter 6/50 - Loss: 34.063\n",
      "Iter 7/50 - Loss: 20.166\n",
      "Iter 8/50 - Loss: 14.307\n",
      "Iter 9/50 - Loss: 12.346\n",
      "Iter 10/50 - Loss: 11.594\n",
      "Iter 11/50 - Loss: 10.788\n",
      "Iter 12/50 - Loss: 10.208\n",
      "Iter 13/50 - Loss: 9.906\n",
      "Iter 14/50 - Loss: 8.809\n",
      "Iter 15/50 - Loss: 7.565\n",
      "Iter 16/50 - Loss: 7.319\n",
      "Iter 17/50 - Loss: 6.284\n",
      "Iter 18/50 - Loss: 5.834\n",
      "Iter 19/50 - Loss: 5.466\n",
      "Iter 20/50 - Loss: 5.560\n",
      "Iter 21/50 - Loss: 5.384\n",
      "Iter 22/50 - Loss: 4.927\n",
      "Iter 23/50 - Loss: 4.993\n",
      "Iter 24/50 - Loss: 5.482\n",
      "Iter 25/50 - Loss: 4.926\n",
      "Iter 26/50 - Loss: 5.504\n",
      "Iter 27/50 - Loss: 5.276\n",
      "Iter 28/50 - Loss: 4.623\n",
      "Iter 29/50 - Loss: 4.877\n",
      "Iter 30/50 - Loss: 4.840\n",
      "Iter 31/50 - Loss: 4.864\n",
      "Iter 32/50 - Loss: 4.976\n",
      "Iter 33/50 - Loss: 4.542\n",
      "Iter 34/50 - Loss: 4.688\n",
      "Iter 35/50 - Loss: 5.408\n",
      "Iter 36/50 - Loss: 4.956\n",
      "Iter 37/50 - Loss: 4.569\n",
      "Iter 38/50 - Loss: 4.880\n",
      "Iter 39/50 - Loss: 4.572\n",
      "Iter 40/50 - Loss: 4.735\n",
      "Iter 41/50 - Loss: 4.569\n",
      "Iter 42/50 - Loss: 4.813\n",
      "Iter 43/50 - Loss: 4.804\n",
      "Iter 44/50 - Loss: 5.080\n",
      "Iter 45/50 - Loss: 4.791\n",
      "Iter 46/50 - Loss: 4.289\n",
      "Iter 47/50 - Loss: 4.575\n",
      "Iter 48/50 - Loss: 4.366\n",
      "Iter 49/50 - Loss: 4.743\n",
      "Iter 50/50 - Loss: 4.315\n"
     ]
    }
   ],
   "source": [
    "# Find optimal model hyperparameters\n",
    "model.train()\n",
    "likelihood.train()\n",
    "\n",
    "# Use the adam optimizer\n",
    "optimizer = torch.optim.Adam([\n",
    "    {'params': model.parameters()},\n",
    "    # BernoulliLikelihood has no parameters\n",
    "], lr=0.1)\n",
    "\n",
    "# \"Loss\" for GPs - the marginal log likelihood\n",
    "# num_data refers to the amount of training data\n",
    "mll = gpytorch.mlls.VariationalMarginalLogLikelihood(likelihood, model, num_data=len(train_y))\n",
    "\n",
    "training_iter = 50\n",
    "for i in range(training_iter):\n",
    "    # Zero backpropped gradients from previous iteration\n",
    "    optimizer.zero_grad()\n",
    "    # Get predictive output\n",
    "    output = model(train_x)\n",
    "    # Calc loss and backprop gradients\n",
    "    loss = -mll(output, train_y)\n",
    "    loss.backward()\n",
    "    print('Iter %d/%d - Loss: %.3f' % (\n",
    "        i + 1, training_iter, loss.item(),\n",
    "    ))\n",
    "    optimizer.step()"
   ]
  },
  {
   "cell_type": "code",
   "execution_count": 6,
   "metadata": {},
   "outputs": [
    {
     "data": {
      "text/plain": [
       "Parameter containing:\n",
       "tensor([[ 0.4363,  0.4889,  0.6413,  0.3660, -0.3995, -0.7677, -0.4548, -0.0827,\n",
       "          0.2336,  0.5700],\n",
       "        [ 0.0000,  0.1676,  0.4290,  1.1445,  1.0960,  0.0395, -0.4911, -0.4381,\n",
       "         -0.3242, -0.0041],\n",
       "        [ 0.0000,  0.0000,  0.1965,  0.2873,  1.0741,  1.2394,  0.2091, -0.2670,\n",
       "         -0.4151, -0.4169],\n",
       "        [ 0.0000,  0.0000,  0.0000,  0.1967,  0.2534,  1.0979,  1.3750,  0.2715,\n",
       "         -0.5787, -0.8459],\n",
       "        [ 0.0000,  0.0000,  0.0000,  0.0000,  0.1866,  0.3022,  1.0851,  1.2245,\n",
       "         -0.0599, -0.8255],\n",
       "        [ 0.0000,  0.0000,  0.0000,  0.0000,  0.0000,  0.1865,  0.2748,  0.9776,\n",
       "          0.8315, -0.3368],\n",
       "        [ 0.0000,  0.0000,  0.0000,  0.0000,  0.0000,  0.0000,  0.2380,  0.2951,\n",
       "          0.9994,  1.4041],\n",
       "        [ 0.0000,  0.0000,  0.0000,  0.0000,  0.0000,  0.0000,  0.0000,  0.3720,\n",
       "          0.3666,  1.6804],\n",
       "        [ 0.0000,  0.0000,  0.0000,  0.0000,  0.0000,  0.0000,  0.0000,  0.0000,\n",
       "         -0.5216,  0.9853],\n",
       "        [ 0.0000,  0.0000,  0.0000,  0.0000,  0.0000,  0.0000,  0.0000,  0.0000,\n",
       "          0.0000,  0.3232]], requires_grad=True)"
      ]
     },
     "execution_count": 6,
     "metadata": {},
     "output_type": "execute_result"
    }
   ],
   "source": [
    "model.chol_variational_covar"
   ]
  },
  {
   "cell_type": "markdown",
   "metadata": {},
   "source": [
    "## Make predictions with the model\n",
    "\n",
    "In the next cell, we make predictions with the model. To do this, we simply put the model and likelihood in eval mode, and call both modules on the test data.\n",
    "\n",
    "In `.eval()` mode, when we call `model()` - we get GP's latent posterior predictions. These will be MultivariateNormal distributions. But since we are performing binary classification, we want to transform these outputs to classification probabilities using our likelihood.\n",
    "\n",
    "When we call `likelihood(model())`, we get a `torch.distributions.Bernoulli` distribution, which represents our posterior probability that the data points belong to the positive class.\n",
    "\n",
    "```python\n",
    "f_preds = model(test_x)\n",
    "y_preds = likelihood(model(test_x))\n",
    "\n",
    "f_mean = f_preds.mean\n",
    "f_samples = f_preds.sample(sample_shape=torch.Size((1000,))\n",
    "```\n",
    "\n",
    "The `gpytorch.fast_pred_var` context is not needed, but here we are giving a preview of using one of our cool features, getting faster predictive distributions using [LOVE](https://arxiv.org/abs/1803.06058)."
   ]
  },
  {
   "cell_type": "code",
   "execution_count": 7,
   "metadata": {},
   "outputs": [
    {
     "data": {
      "image/png": "[encoded data removed]",
      "text/plain": [
       "<Figure size 288x216 with 1 Axes>"
      ]
     },
     "metadata": {
      "needs_background": "light"
     },
     "output_type": "display_data"
    }
   ],
   "source": [
    "# Go into eval mode\n",
    "model.eval()\n",
    "likelihood.eval()\n",
    "\n",
    "with torch.no_grad(), gpytorch.fast_pred_var():\n",
    "    # Test x are regularly spaced by 0.01 0,1 inclusive\n",
    "    test_x = torch.linspace(0, 1, 101)\n",
    "    # Get classification predictions\n",
    "    observed_pred = likelihood(model(test_x))\n",
    "\n",
    "    # Initialize fig and axes for plot\n",
    "    f, ax = plt.subplots(1, 1, figsize=(4, 3))\n",
    "    ax.plot(train_x.numpy(), train_y.numpy(), 'k*')\n",
    "    # Get the predicted labels (probabilites of belonging to the positive class)\n",
    "    # Transform these probabilities to be 0/1 labels\n",
    "    pred_labels = observed_pred.mean.ge(0.5).float().mul(2).sub(1)\n",
    "    ax.plot(test_x.numpy(), pred_labels.numpy(), 'b')\n",
    "    ax.set_ylim([-3, 3])\n",
    "    ax.legend(['Observed Data', 'Mean', 'Confidence'])"
   ]
  },
  {
   "cell_type": "code",
   "execution_count": 9,
   "metadata": {},
   "outputs": [
    {
     "data": {
      "text/plain": [
       "tensor([ -6.1355,  -5.5625,  -4.9364,  -4.6675,  -3.8769,  -3.6834,  -2.6717,\n",
       "         -2.5237,  -2.1289,  -2.0666,  -1.6774,  -1.6433,  -1.3817,  -1.3555,\n",
       "         -1.1567,  -1.1426,  -0.9759,  -0.9641,  -0.8457,  -0.8317,  -0.7369,\n",
       "         -0.7271,  -0.6497,  -0.6406,  -0.5791,  -0.5706,  -0.5204,  -0.5123,\n",
       "         -0.4710,  -0.4638,  -0.4295,  -0.4230,  -0.3943,  -0.3878,  -0.3637,\n",
       "         -0.3588,  -0.3381,  -0.3327,  -0.3153,  -0.3106,  -0.2956,  -0.2917,\n",
       "         -0.2783,  -0.2751,  -0.2638,  -0.2602,  -0.2507,  -0.2478,  -0.2392,\n",
       "         -0.2367,  -0.2293,  -0.2272,  -0.2220,  -0.2197,  -0.2151,  -0.2109,\n",
       "         -0.2072,  -0.2035,  -0.2002,  -0.1980,  -0.1934,  -0.1922,  -0.1882,\n",
       "         -0.1848,  -0.1837,  -0.1795,  -0.1778,  -0.1749,  -0.1718,  -0.1680,\n",
       "         -0.1646,  -0.1625,  -0.1618,  -0.1557,  -0.1546,  -0.1492,  -0.1438,\n",
       "         -0.1431,  -0.1364,  -0.1326,  -0.1293,  -0.1223,  -0.1113,  -0.0304,\n",
       "          0.0560,   0.1410,   0.2146,   0.2671,   0.3209,   0.4337,   0.6417,\n",
       "          1.1943,   2.5162,   7.9729,  21.2373,  53.7888, 122.2426, 219.2296,\n",
       "        253.1833, 292.3896, 341.7910], grad_fn=<SymeigBackward>)"
      ]
     },
     "execution_count": 9,
     "metadata": {},
     "output_type": "execute_result"
    }
   ],
   "source": [
    "model(test_x).covariance_matrix.symeig()[0]"
   ]
  },
  {
   "cell_type": "code",
   "execution_count": null,
   "metadata": {},
   "outputs": [],
   "source": []
  }
 ],
 "metadata": {
  "anaconda-cloud": {},
  "kernelspec": {
   "display_name": "Python 3",
   "language": "python",
   "name": "python3"
  },
  "language_info": {
   "codemirror_mode": {
    "name": "ipython",
    "version": 3
   },
   "file_extension": ".py",
   "mimetype": "text/x-python",
   "name": "python",
   "nbconvert_exporter": "python",
   "pygments_lexer": "ipython3",
   "version": "3.7.0"
  }
 },
 "nbformat": 4,
 "nbformat_minor": 1
}
